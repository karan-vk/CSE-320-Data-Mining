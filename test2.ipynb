{
 "cells": [
  {
   "cell_type": "code",
   "execution_count": 1,
   "source": [
    "age <- c(45, 89, 23)\r\n",
    "marital_status <- c(\"Married\", \"Unmarried\", \"Divorce\")\r\n",
    "quality <- c(\"Excellent\", \"Good\", \"Poor\")\r\n",
    "time_spent <- c(100, 80, 60)\r\n",
    "num_of_people <- c(2, 6, 3)\r\n",
    "type_of_people <- c(\"Friends\", \"Alone\", \"Others\")\r\n",
    "\r\n",
    "data <- data.frame(\r\n",
    "    age, marital_status, quality,\r\n",
    "    time_spent, num_of_people, type_of_people\r\n",
    ")\r\n",
    "write.table(data, \"data.csv\", sep = \",\", row.names = FALSE, col.names = TRUE)\r\n",
    "data$type_of_people\r\n",
    "# Measure of central tendency - Mean, Median, Mode, Range, Variance,\r\n",
    "# Standard Deviation\r\n",
    "\r\n",
    "dim(data) # Dimensions of the data\r\n",
    "str(data) # Structure of the data\r\n",
    "\r\n",
    "print(summary(data))\r\n",
    "box <- boxplot(data$age,\r\n",
    "    main = \"Distrubution of Age\",\r\n",
    "    col = \"blue\",\r\n",
    "    ylab = \"Age\"\r\n",
    ")"
   ],
   "outputs": [
    {
     "output_type": "error",
     "ename": "ERROR",
     "evalue": "Error in parse(text = x, srcfile = src): <text>:1:21: unexpected input\n1: age <- c(45, 89, 23)\r\n                        ^\n",
     "traceback": [
      "Error in parse(text = x, srcfile = src): <text>:1:21: unexpected input\n1: age <- c(45, 89, 23)\r\n                        ^\nTraceback:\n"
     ]
    }
   ],
   "metadata": {}
  },
  {
   "cell_type": "code",
   "execution_count": 6,
   "source": [
    "age<-c(1,2,3,4,5)\r\n",
    "marital_status <- c(\"Married\", \"Unmarried\", \"Divorce\")"
   ],
   "outputs": [
    {
     "output_type": "error",
     "ename": "ERROR",
     "evalue": "Error in parse(text = x, srcfile = src): <text>:1:18: unexpected input\n1: age<-c(1,2,3,4,5)\r\n                     ^\n",
     "traceback": [
      "Error in parse(text = x, srcfile = src): <text>:1:18: unexpected input\n1: age<-c(1,2,3,4,5)\r\n                     ^\nTraceback:\n"
     ]
    }
   ],
   "metadata": {}
  },
  {
   "cell_type": "code",
   "execution_count": 7,
   "source": [
    "library(dplyr)\r\n",
    "library(tidyr)\r\n",
    "library(ggplot2)\r\n",
    "library(lubridate)\r\n",
    "library(highcharter)\r\n",
    "library(scales)\r\n",
    "\r\n",
    "#---------------------Read the datasets---------------------------------------\r\n",
    "airline <- read.csv(\"data/Airlinewise Monthly International Air Traffic To And From The Indian Territory.csv - Airlinewise Monthly International Air Traffic To And From The Indian Territory.csv.csv\")\r\n",
    "View(airline)\r\n",
    "Countrywise <- read.csv(\"data/Countrywise Quarterly International Air Traffic To And From The Indian Territory.csv - Countrywise Quarterly International Air Traffic To And From The Indian Territory.csv.csv\")\r\n",
    "Countrywise\r\n",
    "Citywise <- read.csv(\"data/Citypairwise Quarterly International  Air Traffic To And From The Indian Territory.csv - Citypairwise Quarterly International  Air Traffic To And From The Indian Territory.csv.csv\")\r\n",
    "Citywise\r\n",
    "\r\n",
    "quarter_wise_domestic <- airline %>%\r\n",
    "  filter(CARRIER.TYPE == \"DOMESTIC\") %>%\r\n",
    "  group_by(YEAR, QUARTER) %>%\r\n",
    "  summarise(Passengers_ToInd = sum(PASSENGERS.TO.INDIA), Passengers_FromInd = sum(PASSENGERS.FROM.INDIA))\r\n",
    "\r\n",
    "gather(quarter_wise_domestic, key = Category, Total, 3:4) %>%\r\n",
    "  ggplot(aes(x = QUARTER, y = Total, fill = Category)) +\r\n",
    "  geom_bar(stat = \"identity\", position = \"dodge\") +\r\n",
    "  facet_wrap(~YEAR) +\r\n",
    "  scale_y_continuous(labels = comma) +\r\n",
    "  labs(title = \"Quarter Wise Travellers Domestic Flights\", x = \"Quarter\", y = \"Passengers\")"
   ],
   "outputs": [
    {
     "output_type": "error",
     "ename": "ERROR",
     "evalue": "Error in parse(text = x, srcfile = src): <text>:1:15: unexpected input\n1: library(dplyr)\r\n                  ^\n",
     "traceback": [
      "Error in parse(text = x, srcfile = src): <text>:1:15: unexpected input\n1: library(dplyr)\r\n                  ^\nTraceback:\n"
     ]
    }
   ],
   "metadata": {}
  },
  {
   "cell_type": "code",
   "execution_count": null,
   "source": [],
   "outputs": [],
   "metadata": {}
  }
 ],
 "metadata": {
  "orig_nbformat": 4,
  "language_info": {
   "name": "R",
   "codemirror_mode": "r",
   "pygments_lexer": "r",
   "mimetype": "text/x-r-source",
   "file_extension": ".r",
   "version": "4.1.1"
  },
  "kernelspec": {
   "name": "ir",
   "display_name": "R",
   "language": "R"
  }
 },
 "nbformat": 4,
 "nbformat_minor": 2
}