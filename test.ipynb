{
 "cells": [
  {
   "cell_type": "code",
   "execution_count": 7,
   "source": [
    "age <- c(45, 89, 23)\r\n",
    "marital_status <- c(\"Married\", \"Unmarried\", \"Divorce\")\r\n",
    "quality <- c(\"Excellent\", \"Good\", \"Poor\")\r\n",
    "time_spent <- c(100, 80, 60)\r\n",
    "num_of_people <- c(2, 6, 3)\r\n",
    "type_of_people <- c(\"Friends\", \"Alone\", \"Others\")\r\n",
    "\r\n",
    "data <- data.frame(\r\n",
    "    age, marital_status, quality,\r\n",
    "    time_spent, num_of_people, type_of_people\r\n",
    ")\r\n",
    "write.table(data, \"data.csv\", sep = \",\", row.names = FALSE, col.names = TRUE)\r\n",
    "data$type_of_people\r\n",
    "# Measure of central tendency - Mean, Median, Mode, Range, Variance,\r\n",
    "# Standard Deviation\r\n",
    "\r\n",
    "dim(data) # Dimensions of the data\r\n",
    "str(data) # Structure of the data\r\n",
    "\r\n",
    "print(summary(data))\r\n",
    "box <- boxplot(data$age,\r\n",
    "    main = \"Distrubution of Age\",\r\n",
    "    col = \"blue\",\r\n",
    "    ylab = \"Age\"\r\n",
    ")"
   ],
   "outputs": [
    {
     "output_type": "error",
     "ename": "ERROR",
     "evalue": "Error in parse(text = x, srcfile = src): <text>:1:21: unexpected input\n1: age <- c(45, 89, 23)\r\n                        ^\n",
     "traceback": [
      "Error in parse(text = x, srcfile = src): <text>:1:21: unexpected input\n1: age <- c(45, 89, 23)\r\n                        ^\nTraceback:\n"
     ]
    }
   ],
   "metadata": {}
  },
  {
   "cell_type": "code",
   "execution_count": null,
   "source": [],
   "outputs": [],
   "metadata": {}
  }
 ],
 "metadata": {
  "kernelspec": {
   "display_name": "R",
   "language": "R",
   "name": "ir"
  },
  "language_info": {
   "codemirror_mode": "r",
   "file_extension": ".r",
   "mimetype": "text/x-r-source",
   "name": "R",
   "pygments_lexer": "r",
   "version": "4.1.1"
  }
 },
 "nbformat": 4,
 "nbformat_minor": 5
}