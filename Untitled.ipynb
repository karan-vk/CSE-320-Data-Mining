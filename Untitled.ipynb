{
 "cells": [
  {
   "cell_type": "code",
   "execution_count": 1,
   "id": "bb783d05-d15b-43fe-95fe-e60776592e31",
   "metadata": {
    "execution": {
     "iopub.execute_input": "2021-09-04T07:39:51.866178Z",
     "iopub.status.busy": "2021-09-04T07:39:51.864140Z",
     "iopub.status.idle": "2021-09-04T07:39:52.063133Z",
     "shell.execute_reply": "2021-09-04T07:39:52.060132Z"
    }
   },
   "outputs": [
    {
     "data": {
      "text/html": [
       "<style>\n",
       ".list-inline {list-style: none; margin:0; padding: 0}\n",
       ".list-inline>li {display: inline-block}\n",
       ".list-inline>li:not(:last-child)::after {content: \"\\00b7\"; padding: 0 .5ex}\n",
       "</style>\n",
       "<ol class=list-inline><li>'Friends'</li><li>'Alone'</li><li>'Others'</li></ol>\n"
      ],
      "text/latex": [
       "\\begin{enumerate*}\n",
       "\\item 'Friends'\n",
       "\\item 'Alone'\n",
       "\\item 'Others'\n",
       "\\end{enumerate*}\n"
      ],
      "text/markdown": [
       "1. 'Friends'\n",
       "2. 'Alone'\n",
       "3. 'Others'\n",
       "\n",
       "\n"
      ],
      "text/plain": [
       "[1] \"Friends\" \"Alone\"   \"Others\" "
      ]
     },
     "metadata": {},
     "output_type": "display_data"
    },
    {
     "data": {
      "text/html": [
       "<style>\n",
       ".list-inline {list-style: none; margin:0; padding: 0}\n",
       ".list-inline>li {display: inline-block}\n",
       ".list-inline>li:not(:last-child)::after {content: \"\\00b7\"; padding: 0 .5ex}\n",
       "</style>\n",
       "<ol class=list-inline><li>3</li><li>6</li></ol>\n"
      ],
      "text/latex": [
       "\\begin{enumerate*}\n",
       "\\item 3\n",
       "\\item 6\n",
       "\\end{enumerate*}\n"
      ],
      "text/markdown": [
       "1. 3\n",
       "2. 6\n",
       "\n",
       "\n"
      ],
      "text/plain": [
       "[1] 3 6"
      ]
     },
     "metadata": {},
     "output_type": "display_data"
    },
    {
     "name": "stdout",
     "output_type": "stream",
     "text": [
      "'data.frame':\t3 obs. of  6 variables:\n",
      " $ age           : num  45 89 23\n",
      " $ marital_status: chr  \"Married\" \"Unmarried\" \"Divorce\"\n",
      " $ quality       : chr  \"Excellent\" \"Good\" \"Poor\"\n",
      " $ time_spent    : num  100 80 60\n",
      " $ num_of_people : num  2 6 3\n",
      " $ type_of_people: chr  \"Friends\" \"Alone\" \"Others\"\n",
      "      age        marital_status       quality            time_spent \n",
      " Min.   :23.00   Length:3           Length:3           Min.   : 60  \n",
      " 1st Qu.:34.00   Class :character   Class :character   1st Qu.: 70  \n",
      " Median :45.00   Mode  :character   Mode  :character   Median : 80  \n",
      " Mean   :52.33                                         Mean   : 80  \n",
      " 3rd Qu.:67.00                                         3rd Qu.: 90  \n",
      " Max.   :89.00                                         Max.   :100  \n",
      " num_of_people   type_of_people    \n",
      " Min.   :2.000   Length:3          \n",
      " 1st Qu.:2.500   Class :character  \n",
      " Median :3.000   Mode  :character  \n",
      " Mean   :3.667                     \n",
      " 3rd Qu.:4.500                     \n",
      " Max.   :6.000                     \n"
     ]
    },
    {
     "data": {
      "image/png": "[encoded data removed]",
      "text/plain": [
       "Plot with title \"Distrubution of Age\""
      ]
     },
     "metadata": {
      "image/png": {
       "height": 420,
       "width": 420
      }
     },
     "output_type": "display_data"
    }
   ],
   "source": [
    "age <- c(45, 89, 23)\n",
    "marital_status <- c(\"Married\", \"Unmarried\", \"Divorce\")\n",
    "quality <- c(\"Excellent\", \"Good\", \"Poor\")\n",
    "time_spent <- c(100, 80, 60)\n",
    "num_of_people <- c(2, 6, 3)\n",
    "type_of_people <- c(\"Friends\", \"Alone\", \"Others\")\n",
    "\n",
    "data <- data.frame(\n",
    "    age, marital_status, quality,\n",
    "    time_spent, num_of_people, type_of_people\n",
    ")\n",
    "write.table(data, \"data.csv\", sep = \",\", row.names = FALSE, col.names = TRUE)\n",
    "data$type_of_people\n",
    "# Measure of central tendency - Mean, Median, Mode, Range, Variance,\n",
    "# Standard Deviation\n",
    "\n",
    "dim(data) # Dimensions of the data\n",
    "str(data) # Structure of the data\n",
    "\n",
    "print(summary(data))\n",
    "box <- boxplot(data$age,\n",
    "    main = \"Distrubution of Age\",\n",
    "    col = \"blue\",\n",
    "    ylab = \"Age\"\n",
    ")"
   ]
  },
  {
   "cell_type": "code",
   "execution_count": null,
   "id": "f61ab7fc-cd03-4a47-b88d-f4032760b51a",
   "metadata": {},
   "outputs": [],
   "source": []
  }
 ],
 "metadata": {
  "kernelspec": {
   "display_name": "R",
   "language": "R",
   "name": "ir"
  },
  "language_info": {
   "codemirror_mode": "r",
   "file_extension": ".r",
   "mimetype": "text/x-r-source",
   "name": "R",
   "pygments_lexer": "r",
   "version": "4.1.1"
  }
 },
 "nbformat": 4,
 "nbformat_minor": 5
}
