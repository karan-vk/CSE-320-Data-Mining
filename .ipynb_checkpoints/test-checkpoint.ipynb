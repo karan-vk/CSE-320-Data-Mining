{
 "cells": [
  {
   "cell_type": "code",
   "execution_count": 2,
   "id": "7188c9e0-a8c3-4afd-91ba-cb7682458652",
   "metadata": {
    "execution": {
     "iopub.execute_input": "2021-09-04T03:47:15.228698Z",
     "iopub.status.busy": "2021-09-04T03:47:15.193697Z",
     "iopub.status.idle": "2021-09-04T03:47:15.268702Z",
     "shell.execute_reply": "2021-09-04T03:47:15.267702Z"
    },
    "tags": []
   },
   "outputs": [
    {
     "data": {
      "text/plain": [
       "   Min. 1st Qu.  Median    Mean 3rd Qu.    Max. \n",
       "  135.0   310.0   425.0   591.2   680.0  3710.0 "
      ]
     },
     "metadata": {},
     "output_type": "display_data"
    }
   ],
   "source": [
    "summary(rivers)"
   ]
  },
  {
   "cell_type": "code",
   "execution_count": null,
   "id": "06c1be2d-4a7c-4d74-b203-e43a51dcc2bd",
   "metadata": {},
   "outputs": [],
   "source": []
  }
 ],
 "metadata": {
  "kernelspec": {
   "display_name": "R",
   "language": "R",
   "name": "ir"
  },
  "language_info": {
   "codemirror_mode": "r",
   "file_extension": ".r",
   "mimetype": "text/x-r-source",
   "name": "R",
   "pygments_lexer": "r",
   "version": "4.1.1"
  }
 },
 "nbformat": 4,
 "nbformat_minor": 5
}
